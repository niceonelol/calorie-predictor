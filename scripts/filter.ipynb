{
 "cells": [
  {
   "cell_type": "code",
   "execution_count": 1,
   "id": "76a9a355",
   "metadata": {},
   "outputs": [],
   "source": [
    "from pathlib import Path\n",
    "\n",
    "# Paths\n",
    "image_dir = Path(\"../data/images\")\n",
    "input_file = \"../data/test_dishes.txt\"\n",
    "output_file = \"../data/test_filtered.txt\"\n",
    "\n",
    "# Get set of available image IDs (strip .png)\n",
    "image_ids = {f.stem for f in image_dir.glob(\"*.png\")}\n",
    "\n",
    "# Filter\n",
    "with open(input_file) as f_in, open(output_file, \"w\") as f_out:\n",
    "    for line in f_in:\n",
    "        dish_id = line.strip()\n",
    "        if dish_id in image_ids:\n",
    "            f_out.write(dish_id + \"\\n\")"
   ]
  },
  {
   "cell_type": "code",
   "execution_count": 2,
   "id": "db2d852d",
   "metadata": {},
   "outputs": [],
   "source": [
    "from pathlib import Path\n",
    "\n",
    "# Paths\n",
    "image_dir = Path(\"../data/images\")\n",
    "input_file = \"../data/train_dishes.txt\"\n",
    "output_file = \"../data/train_filtered.txt\"\n",
    "\n",
    "# Get set of available image IDs (strip .png)\n",
    "image_ids = {f.stem for f in image_dir.glob(\"*.png\")}\n",
    "\n",
    "# Filter\n",
    "with open(input_file) as f_in, open(output_file, \"w\") as f_out:\n",
    "    for line in f_in:\n",
    "        dish_id = line.strip()\n",
    "        if dish_id in image_ids:\n",
    "            f_out.write(dish_id + \"\\n\")\n"
   ]
  },
  {
   "cell_type": "code",
   "execution_count": 3,
   "id": "37e92568",
   "metadata": {},
   "outputs": [],
   "source": [
    "import csv, pathlib\n",
    "\n",
    "img_ids = {p.stem for p in pathlib.Path(\"../data/images\").glob(\"*.png\")}\n",
    "\n",
    "with open(\"../data/nutrition5k_dataset_metadata_dish_metadata_cafe1.csv\", newline=\"\") as fin, open(\"../data/nutrition_filtered.csv\", \"w\", newline=\"\") as fout:\n",
    "    reader, writer = csv.reader(fin), csv.writer(fout)\n",
    "    header = next(reader)\n",
    "    writer.writerow(header)\n",
    "    for row in reader:\n",
    "        if row[0] in img_ids:\n",
    "            writer.writerow(row)\n"
   ]
  }
 ],
 "metadata": {
  "kernelspec": {
   "display_name": ".venv",
   "language": "python",
   "name": "python3"
  },
  "language_info": {
   "codemirror_mode": {
    "name": "ipython",
    "version": 3
   },
   "file_extension": ".py",
   "mimetype": "text/x-python",
   "name": "python",
   "nbconvert_exporter": "python",
   "pygments_lexer": "ipython3",
   "version": "3.12.4"
  }
 },
 "nbformat": 4,
 "nbformat_minor": 5
}
