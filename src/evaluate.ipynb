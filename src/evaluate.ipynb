{
 "cells": [
  {
   "cell_type": "code",
   "execution_count": null,
   "id": "cda57eed",
   "metadata": {},
   "outputs": [
    {
     "name": "stdout",
     "output_type": "stream",
     "text": [
      "Paired t-test results:\n",
      "t-statistic = 0.6339\n",
      "p-value     = 0.5264\n",
      "Mean abs error (Unimodal)   = 84.76\n",
      "Mean abs error (Multimodal) = 83.70\n"
     ]
    }
   ],
   "source": [
    "# Load necessary CSV files\n",
    "uni_df = pd.read_csv(\"../data/unimodal_errors.csv\")\n",
    "multi_df = pd.read_csv(\"../data/multimodal_errors.csv\")\n",
    "\n",
    "# Merge with respect to dish_id\n",
    "merged = pd.merge(\n",
    "    uni_df[[\"dish_id\", \"abs_error\"]],\n",
    "    multi_df[[\"dish_id\", \"abs_error\"]],\n",
    "    on=\"dish_id\",\n",
    "    suffixes=(\"_uni\", \"_multi\")\n",
    ")\n",
    "\n",
    "# Extract errors\n",
    "errors_uni = merged[\"abs_error_uni\"].values\n",
    "errors_multi = merged[\"abs_error_multi\"].values\n",
    "\n",
    "# Carry out paired t-test\n",
    "t_stat, p_value = ttest_rel(errors_uni, errors_multi)\n",
    "\n",
    "print(f\"Paired t-test results:\")\n",
    "print(f\"t-statistic = {t_stat:.4f}\")\n",
    "print(f\"p-value     = {p_value:.4f}\")\n",
    "print(f\"Mean abs error (Unimodal)   = {errors_uni.mean():.2f}\")\n",
    "print(f\"Mean abs error (Multimodal) = {errors_multi.mean():.2f}\")\n"
   ]
  }
 ],
 "metadata": {
  "kernelspec": {
   "display_name": ".venv",
   "language": "python",
   "name": "python3"
  },
  "language_info": {
   "codemirror_mode": {
    "name": "ipython",
    "version": 3
   },
   "file_extension": ".py",
   "mimetype": "text/x-python",
   "name": "python",
   "nbconvert_exporter": "python",
   "pygments_lexer": "ipython3",
   "version": "3.12.4"
  }
 },
 "nbformat": 4,
 "nbformat_minor": 5
}
